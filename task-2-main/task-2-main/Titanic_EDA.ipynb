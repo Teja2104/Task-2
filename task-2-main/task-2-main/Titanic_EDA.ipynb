{
 "cells": [
  {
   "cell_type": "markdown",
   "id": "11599684",
   "metadata": {},
   "source": [
    "# Titanic Dataset - Exploratory Data Analysis (EDA)\n",
    "This notebook performs EDA on the Titanic dataset using **Pandas**, **Matplotlib**, **Seaborn**, and **Plotly**.\n",
    "\n",
    "**Objectives:**\n",
    "- Understand the data with statistics and visualizations\n",
    "- Identify patterns, trends, and anomalies\n",
    "- Make feature-level inferences"
   ]
  },
  {
   "cell_type": "code",
   "execution_count": null,
   "id": "71da30f2",
   "metadata": {},
   "outputs": [],
   "source": [
    "import pandas as pd\n",
    "import numpy as np\n",
    "import matplotlib.pyplot as plt\n",
    "import seaborn as sns\n",
    "import plotly.express as px\n",
    "\n",
    "sns.set(style='whitegrid')\n",
    "%matplotlib inline"
   ]
  },
  {
   "cell_type": "code",
   "execution_count": null,
   "id": "bbe61edb",
   "metadata": {},
   "outputs": [],
   "source": [
    "df = pd.read_csv('Titanic-Dataset.csv')\n",
    "df.head()"
   ]
  },
  {
   "cell_type": "code",
   "execution_count": null,
   "id": "b8155852",
   "metadata": {},
   "outputs": [],
   "source": [
    "df.shape"
   ]
  },
  {
   "cell_type": "code",
   "execution_count": null,
   "id": "3d1bd1cc",
   "metadata": {},
   "outputs": [],
   "source": [
    "df.info()"
   ]
  },
  {
   "cell_type": "code",
   "execution_count": null,
   "id": "075787e9",
   "metadata": {},
   "outputs": [],
   "source": [
    "df.isnull().sum()"
   ]
  },
  {
   "cell_type": "code",
   "execution_count": null,
   "id": "498c0d33",
   "metadata": {},
   "outputs": [],
   "source": [
    "df.describe(include='all')"
   ]
  },
  {
   "cell_type": "markdown",
   "id": "1eea25fc",
   "metadata": {},
   "source": [
    "## Histograms of Numerical Features"
   ]
  },
  {
   "cell_type": "code",
   "execution_count": null,
   "id": "9298b9fc",
   "metadata": {},
   "outputs": [],
   "source": [
    "numeric_features = ['Age', 'Fare']\n",
    "df[numeric_features].hist(bins=30, figsize=(10, 5), color='skyblue')\n",
    "plt.tight_layout()\n",
    "plt.show()"
   ]
  },
  {
   "cell_type": "markdown",
   "id": "81007f76",
   "metadata": {},
   "source": [
    "## Boxplots Grouped by Survived"
   ]
  },
  {
   "cell_type": "code",
   "execution_count": null,
   "id": "0c259497",
   "metadata": {},
   "outputs": [],
   "source": [
    "plt.figure(figsize=(12, 5))\n",
    "for i, feature in enumerate(numeric_features):\n",
    "    plt.subplot(1, 2, i+1)\n",
    "    sns.boxplot(x='Survived', y=feature, data=df)\n",
    "    plt.title(f'{feature} by Survival')\n",
    "plt.tight_layout()\n",
    "plt.show()"
   ]
  },
  {
   "cell_type": "markdown",
   "id": "9ee25eea",
   "metadata": {},
   "source": [
    "## Pairplot of Selected Features"
   ]
  },
  {
   "cell_type": "code",
   "execution_count": null,
   "id": "98b5bef2",
   "metadata": {},
   "outputs": [],
   "source": [
    "sns.pairplot(df[['Survived', 'Age', 'Fare', 'Pclass']], hue='Survived')\n",
    "plt.show()"
   ]
  },
  {
   "cell_type": "markdown",
   "id": "05ebaf1c",
   "metadata": {},
   "source": [
    "## Correlation Heatmap"
   ]
  },
  {
   "cell_type": "code",
   "execution_count": null,
   "id": "b891190d",
   "metadata": {},
   "outputs": [],
   "source": [
    "plt.figure(figsize=(8, 6))\n",
    "corr = df.corr()\n",
    "sns.heatmap(corr, annot=True, cmap='coolwarm', fmt='.2f', square=True)\n",
    "plt.title('Correlation Matrix')\n",
    "plt.show()"
   ]
  },
  {
   "cell_type": "markdown",
   "id": "e512aaf7",
   "metadata": {},
   "source": [
    "## Interactive Scatter Plot (Age vs Fare)"
   ]
  },
  {
   "cell_type": "code",
   "execution_count": null,
   "id": "2e5c2d35",
   "metadata": {},
   "outputs": [],
   "source": [
    "fig = px.scatter(df, x='Age', y='Fare', color='Survived', \n",
    "                 hover_data=['Sex', 'Pclass', 'Embarked'])\n",
    "fig.show()"
   ]
  },
  {
   "cell_type": "markdown",
   "id": "903241b2",
   "metadata": {},
   "source": [
    "## Basic Observations\n",
    "- Younger passengers had higher survival rates.\n",
    "- Passengers in 1st class tended to survive more.\n",
    "- Females had significantly higher survival rates.\n",
    "- Fare and Pclass correlate with survival."
   ]
  }
 ],
 "metadata": {},
 "nbformat": 4,
 "nbformat_minor": 5
}
